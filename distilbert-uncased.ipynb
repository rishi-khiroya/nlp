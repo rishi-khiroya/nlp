{
 "cells": [
  {
   "cell_type": "markdown",
   "metadata": {},
   "source": [
    "# DistilBert-uncased\n",
    "https://huggingface.co/distilbert/distilbert-base-uncased\n"
   ]
  },
  {
   "cell_type": "code",
   "execution_count": 101,
   "metadata": {},
   "outputs": [
    {
     "name": "stdout",
     "output_type": "stream",
     "text": [
      "Tue Mar  4 13:38:38 2025       \n",
      "+---------------------------------------------------------------------------------------+\n",
      "| NVIDIA-SMI 535.216.03             Driver Version: 535.216.03   CUDA Version: 12.2     |\n",
      "|-----------------------------------------+----------------------+----------------------+\n",
      "| GPU  Name                 Persistence-M | Bus-Id        Disp.A | Volatile Uncorr. ECC |\n",
      "| Fan  Temp   Perf          Pwr:Usage/Cap |         Memory-Usage | GPU-Util  Compute M. |\n",
      "|                                         |                      |               MIG M. |\n",
      "|=========================================+======================+======================|\n",
      "|   0  Tesla T4                       On  | 00000000:B5:00.0 Off |                    0 |\n",
      "| N/A   56C    P0              30W /  70W |   2719MiB / 15360MiB |      0%      Default |\n",
      "|                                         |                      |                  N/A |\n",
      "+-----------------------------------------+----------------------+----------------------+\n",
      "                                                                                         \n",
      "+---------------------------------------------------------------------------------------+\n",
      "| Processes:                                                                            |\n",
      "|  GPU   GI   CI        PID   Type   Process name                            GPU Memory |\n",
      "|        ID   ID                                                             Usage      |\n",
      "|=======================================================================================|\n",
      "|    0   N/A  N/A   3083240      C   ...itbucket/epb21/nlp/.venv/bin/python     2714MiB |\n",
      "+---------------------------------------------------------------------------------------+\n"
     ]
    }
   ],
   "source": [
    "!nvidia-smi"
   ]
  },
  {
   "cell_type": "code",
   "execution_count": 102,
   "metadata": {},
   "outputs": [
    {
     "name": "stdout",
     "output_type": "stream",
     "text": [
      "Requirement already satisfied: transformers in ./.venv/lib/python3.12/site-packages (4.48.3)\n",
      "Requirement already satisfied: filelock in ./.venv/lib/python3.12/site-packages (from transformers) (3.17.0)\n",
      "Requirement already satisfied: huggingface-hub<1.0,>=0.24.0 in ./.venv/lib/python3.12/site-packages (from transformers) (0.28.1)\n",
      "Requirement already satisfied: numpy>=1.17 in ./.venv/lib/python3.12/site-packages (from transformers) (2.2.3)\n",
      "Requirement already satisfied: packaging>=20.0 in ./.venv/lib/python3.12/site-packages (from transformers) (24.2)\n",
      "Requirement already satisfied: pyyaml>=5.1 in ./.venv/lib/python3.12/site-packages (from transformers) (6.0.2)\n",
      "Requirement already satisfied: regex!=2019.12.17 in ./.venv/lib/python3.12/site-packages (from transformers) (2024.11.6)\n",
      "Requirement already satisfied: requests in ./.venv/lib/python3.12/site-packages (from transformers) (2.32.3)\n",
      "Requirement already satisfied: tokenizers<0.22,>=0.21 in ./.venv/lib/python3.12/site-packages (from transformers) (0.21.0)\n",
      "Requirement already satisfied: safetensors>=0.4.1 in ./.venv/lib/python3.12/site-packages (from transformers) (0.5.2)\n",
      "Requirement already satisfied: tqdm>=4.27 in ./.venv/lib/python3.12/site-packages (from transformers) (4.67.1)\n",
      "Requirement already satisfied: fsspec>=2023.5.0 in ./.venv/lib/python3.12/site-packages (from huggingface-hub<1.0,>=0.24.0->transformers) (2024.12.0)\n",
      "Requirement already satisfied: typing-extensions>=3.7.4.3 in ./.venv/lib/python3.12/site-packages (from huggingface-hub<1.0,>=0.24.0->transformers) (4.12.2)\n",
      "Requirement already satisfied: charset-normalizer<4,>=2 in ./.venv/lib/python3.12/site-packages (from requests->transformers) (3.4.1)\n",
      "Requirement already satisfied: idna<4,>=2.5 in ./.venv/lib/python3.12/site-packages (from requests->transformers) (3.10)\n",
      "Requirement already satisfied: urllib3<3,>=1.21.1 in ./.venv/lib/python3.12/site-packages (from requests->transformers) (2.3.0)\n",
      "Requirement already satisfied: certifi>=2017.4.17 in ./.venv/lib/python3.12/site-packages (from requests->transformers) (2025.1.31)\n",
      "Note: you may need to restart the kernel to use updated packages.\n",
      "Requirement already satisfied: datasets in ./.venv/lib/python3.12/site-packages (3.3.0)\n",
      "Requirement already satisfied: filelock in ./.venv/lib/python3.12/site-packages (from datasets) (3.17.0)\n",
      "Requirement already satisfied: numpy>=1.17 in ./.venv/lib/python3.12/site-packages (from datasets) (2.2.3)\n",
      "Requirement already satisfied: pyarrow>=15.0.0 in ./.venv/lib/python3.12/site-packages (from datasets) (19.0.0)\n",
      "Requirement already satisfied: dill<0.3.9,>=0.3.0 in ./.venv/lib/python3.12/site-packages (from datasets) (0.3.8)\n",
      "Requirement already satisfied: pandas in ./.venv/lib/python3.12/site-packages (from datasets) (2.2.3)\n",
      "Requirement already satisfied: requests>=2.32.2 in ./.venv/lib/python3.12/site-packages (from datasets) (2.32.3)\n",
      "Requirement already satisfied: tqdm>=4.66.3 in ./.venv/lib/python3.12/site-packages (from datasets) (4.67.1)\n",
      "Requirement already satisfied: xxhash in ./.venv/lib/python3.12/site-packages (from datasets) (3.5.0)\n",
      "Requirement already satisfied: multiprocess<0.70.17 in ./.venv/lib/python3.12/site-packages (from datasets) (0.70.16)\n",
      "Requirement already satisfied: fsspec<=2024.12.0,>=2023.1.0 in ./.venv/lib/python3.12/site-packages (from fsspec[http]<=2024.12.0,>=2023.1.0->datasets) (2024.12.0)\n",
      "Requirement already satisfied: aiohttp in ./.venv/lib/python3.12/site-packages (from datasets) (3.11.12)\n",
      "Requirement already satisfied: huggingface-hub>=0.24.0 in ./.venv/lib/python3.12/site-packages (from datasets) (0.28.1)\n",
      "Requirement already satisfied: packaging in ./.venv/lib/python3.12/site-packages (from datasets) (24.2)\n",
      "Requirement already satisfied: pyyaml>=5.1 in ./.venv/lib/python3.12/site-packages (from datasets) (6.0.2)\n",
      "Requirement already satisfied: aiohappyeyeballs>=2.3.0 in ./.venv/lib/python3.12/site-packages (from aiohttp->datasets) (2.4.6)\n",
      "Requirement already satisfied: aiosignal>=1.1.2 in ./.venv/lib/python3.12/site-packages (from aiohttp->datasets) (1.3.2)\n",
      "Requirement already satisfied: attrs>=17.3.0 in ./.venv/lib/python3.12/site-packages (from aiohttp->datasets) (25.1.0)\n",
      "Requirement already satisfied: frozenlist>=1.1.1 in ./.venv/lib/python3.12/site-packages (from aiohttp->datasets) (1.5.0)\n",
      "Requirement already satisfied: multidict<7.0,>=4.5 in ./.venv/lib/python3.12/site-packages (from aiohttp->datasets) (6.1.0)\n",
      "Requirement already satisfied: propcache>=0.2.0 in ./.venv/lib/python3.12/site-packages (from aiohttp->datasets) (0.2.1)\n",
      "Requirement already satisfied: yarl<2.0,>=1.17.0 in ./.venv/lib/python3.12/site-packages (from aiohttp->datasets) (1.18.3)\n",
      "Requirement already satisfied: typing-extensions>=3.7.4.3 in ./.venv/lib/python3.12/site-packages (from huggingface-hub>=0.24.0->datasets) (4.12.2)\n",
      "Requirement already satisfied: charset-normalizer<4,>=2 in ./.venv/lib/python3.12/site-packages (from requests>=2.32.2->datasets) (3.4.1)\n",
      "Requirement already satisfied: idna<4,>=2.5 in ./.venv/lib/python3.12/site-packages (from requests>=2.32.2->datasets) (3.10)\n",
      "Requirement already satisfied: urllib3<3,>=1.21.1 in ./.venv/lib/python3.12/site-packages (from requests>=2.32.2->datasets) (2.3.0)\n",
      "Requirement already satisfied: certifi>=2017.4.17 in ./.venv/lib/python3.12/site-packages (from requests>=2.32.2->datasets) (2025.1.31)\n",
      "Requirement already satisfied: python-dateutil>=2.8.2 in ./.venv/lib/python3.12/site-packages (from pandas->datasets) (2.9.0.post0)\n",
      "Requirement already satisfied: pytz>=2020.1 in ./.venv/lib/python3.12/site-packages (from pandas->datasets) (2025.1)\n",
      "Requirement already satisfied: tzdata>=2022.7 in ./.venv/lib/python3.12/site-packages (from pandas->datasets) (2025.1)\n",
      "Requirement already satisfied: six>=1.5 in ./.venv/lib/python3.12/site-packages (from python-dateutil>=2.8.2->pandas->datasets) (1.17.0)\n",
      "Note: you may need to restart the kernel to use updated packages.\n",
      "Requirement already satisfied: torch in ./.venv/lib/python3.12/site-packages (2.6.0)\n",
      "Requirement already satisfied: filelock in ./.venv/lib/python3.12/site-packages (from torch) (3.17.0)\n",
      "Requirement already satisfied: typing-extensions>=4.10.0 in ./.venv/lib/python3.12/site-packages (from torch) (4.12.2)\n",
      "Requirement already satisfied: networkx in ./.venv/lib/python3.12/site-packages (from torch) (3.4.2)\n",
      "Requirement already satisfied: jinja2 in ./.venv/lib/python3.12/site-packages (from torch) (3.1.5)\n",
      "Requirement already satisfied: fsspec in ./.venv/lib/python3.12/site-packages (from torch) (2024.12.0)\n",
      "Requirement already satisfied: nvidia-cuda-nvrtc-cu12==12.4.127 in ./.venv/lib/python3.12/site-packages (from torch) (12.4.127)\n",
      "Requirement already satisfied: nvidia-cuda-runtime-cu12==12.4.127 in ./.venv/lib/python3.12/site-packages (from torch) (12.4.127)\n",
      "Requirement already satisfied: nvidia-cuda-cupti-cu12==12.4.127 in ./.venv/lib/python3.12/site-packages (from torch) (12.4.127)\n",
      "Requirement already satisfied: nvidia-cudnn-cu12==9.1.0.70 in ./.venv/lib/python3.12/site-packages (from torch) (9.1.0.70)\n",
      "Requirement already satisfied: nvidia-cublas-cu12==12.4.5.8 in ./.venv/lib/python3.12/site-packages (from torch) (12.4.5.8)\n",
      "Requirement already satisfied: nvidia-cufft-cu12==11.2.1.3 in ./.venv/lib/python3.12/site-packages (from torch) (11.2.1.3)\n",
      "Requirement already satisfied: nvidia-curand-cu12==10.3.5.147 in ./.venv/lib/python3.12/site-packages (from torch) (10.3.5.147)\n",
      "Requirement already satisfied: nvidia-cusolver-cu12==11.6.1.9 in ./.venv/lib/python3.12/site-packages (from torch) (11.6.1.9)\n",
      "Requirement already satisfied: nvidia-cusparse-cu12==12.3.1.170 in ./.venv/lib/python3.12/site-packages (from torch) (12.3.1.170)\n",
      "Requirement already satisfied: nvidia-cusparselt-cu12==0.6.2 in ./.venv/lib/python3.12/site-packages (from torch) (0.6.2)\n",
      "Requirement already satisfied: nvidia-nccl-cu12==2.21.5 in ./.venv/lib/python3.12/site-packages (from torch) (2.21.5)\n",
      "Requirement already satisfied: nvidia-nvtx-cu12==12.4.127 in ./.venv/lib/python3.12/site-packages (from torch) (12.4.127)\n",
      "Requirement already satisfied: nvidia-nvjitlink-cu12==12.4.127 in ./.venv/lib/python3.12/site-packages (from torch) (12.4.127)\n",
      "Requirement already satisfied: triton==3.2.0 in ./.venv/lib/python3.12/site-packages (from torch) (3.2.0)\n",
      "Requirement already satisfied: setuptools in ./.venv/lib/python3.12/site-packages (from torch) (75.8.0)\n",
      "Requirement already satisfied: sympy==1.13.1 in ./.venv/lib/python3.12/site-packages (from torch) (1.13.1)\n",
      "Requirement already satisfied: mpmath<1.4,>=1.1.0 in ./.venv/lib/python3.12/site-packages (from sympy==1.13.1->torch) (1.3.0)\n",
      "Requirement already satisfied: MarkupSafe>=2.0 in ./.venv/lib/python3.12/site-packages (from jinja2->torch) (3.0.2)\n",
      "Note: you may need to restart the kernel to use updated packages.\n",
      "Requirement already satisfied: scikit-learn in ./.venv/lib/python3.12/site-packages (1.6.1)\n",
      "Requirement already satisfied: numpy>=1.19.5 in ./.venv/lib/python3.12/site-packages (from scikit-learn) (2.2.3)\n",
      "Requirement already satisfied: scipy>=1.6.0 in ./.venv/lib/python3.12/site-packages (from scikit-learn) (1.15.1)\n",
      "Requirement already satisfied: joblib>=1.2.0 in ./.venv/lib/python3.12/site-packages (from scikit-learn) (1.4.2)\n",
      "Requirement already satisfied: threadpoolctl>=3.1.0 in ./.venv/lib/python3.12/site-packages (from scikit-learn) (3.5.0)\n",
      "Note: you may need to restart the kernel to use updated packages.\n",
      "Requirement already satisfied: pandas in ./.venv/lib/python3.12/site-packages (2.2.3)\n",
      "Requirement already satisfied: numpy>=1.26.0 in ./.venv/lib/python3.12/site-packages (from pandas) (2.2.3)\n",
      "Requirement already satisfied: python-dateutil>=2.8.2 in ./.venv/lib/python3.12/site-packages (from pandas) (2.9.0.post0)\n",
      "Requirement already satisfied: pytz>=2020.1 in ./.venv/lib/python3.12/site-packages (from pandas) (2025.1)\n",
      "Requirement already satisfied: tzdata>=2022.7 in ./.venv/lib/python3.12/site-packages (from pandas) (2025.1)\n",
      "Requirement already satisfied: six>=1.5 in ./.venv/lib/python3.12/site-packages (from python-dateutil>=2.8.2->pandas) (1.17.0)\n",
      "Note: you may need to restart the kernel to use updated packages.\n",
      "Requirement already satisfied: seaborn in ./.venv/lib/python3.12/site-packages (0.13.2)\n",
      "Requirement already satisfied: numpy!=1.24.0,>=1.20 in ./.venv/lib/python3.12/site-packages (from seaborn) (2.2.3)\n",
      "Requirement already satisfied: pandas>=1.2 in ./.venv/lib/python3.12/site-packages (from seaborn) (2.2.3)\n",
      "Requirement already satisfied: matplotlib!=3.6.1,>=3.4 in ./.venv/lib/python3.12/site-packages (from seaborn) (3.10.0)\n",
      "Requirement already satisfied: contourpy>=1.0.1 in ./.venv/lib/python3.12/site-packages (from matplotlib!=3.6.1,>=3.4->seaborn) (1.3.1)\n",
      "Requirement already satisfied: cycler>=0.10 in ./.venv/lib/python3.12/site-packages (from matplotlib!=3.6.1,>=3.4->seaborn) (0.12.1)\n",
      "Requirement already satisfied: fonttools>=4.22.0 in ./.venv/lib/python3.12/site-packages (from matplotlib!=3.6.1,>=3.4->seaborn) (4.56.0)\n",
      "Requirement already satisfied: kiwisolver>=1.3.1 in ./.venv/lib/python3.12/site-packages (from matplotlib!=3.6.1,>=3.4->seaborn) (1.4.8)\n",
      "Requirement already satisfied: packaging>=20.0 in ./.venv/lib/python3.12/site-packages (from matplotlib!=3.6.1,>=3.4->seaborn) (24.2)\n",
      "Requirement already satisfied: pillow>=8 in ./.venv/lib/python3.12/site-packages (from matplotlib!=3.6.1,>=3.4->seaborn) (11.1.0)\n",
      "Requirement already satisfied: pyparsing>=2.3.1 in ./.venv/lib/python3.12/site-packages (from matplotlib!=3.6.1,>=3.4->seaborn) (3.2.1)\n",
      "Requirement already satisfied: python-dateutil>=2.7 in ./.venv/lib/python3.12/site-packages (from matplotlib!=3.6.1,>=3.4->seaborn) (2.9.0.post0)\n",
      "Requirement already satisfied: pytz>=2020.1 in ./.venv/lib/python3.12/site-packages (from pandas>=1.2->seaborn) (2025.1)\n",
      "Requirement already satisfied: tzdata>=2022.7 in ./.venv/lib/python3.12/site-packages (from pandas>=1.2->seaborn) (2025.1)\n",
      "Requirement already satisfied: six>=1.5 in ./.venv/lib/python3.12/site-packages (from python-dateutil>=2.7->matplotlib!=3.6.1,>=3.4->seaborn) (1.17.0)\n",
      "Note: you may need to restart the kernel to use updated packages.\n",
      "Requirement already satisfied: matplotlib in ./.venv/lib/python3.12/site-packages (3.10.0)\n",
      "Requirement already satisfied: contourpy>=1.0.1 in ./.venv/lib/python3.12/site-packages (from matplotlib) (1.3.1)\n",
      "Requirement already satisfied: cycler>=0.10 in ./.venv/lib/python3.12/site-packages (from matplotlib) (0.12.1)\n",
      "Requirement already satisfied: fonttools>=4.22.0 in ./.venv/lib/python3.12/site-packages (from matplotlib) (4.56.0)\n",
      "Requirement already satisfied: kiwisolver>=1.3.1 in ./.venv/lib/python3.12/site-packages (from matplotlib) (1.4.8)\n",
      "Requirement already satisfied: numpy>=1.23 in ./.venv/lib/python3.12/site-packages (from matplotlib) (2.2.3)\n",
      "Requirement already satisfied: packaging>=20.0 in ./.venv/lib/python3.12/site-packages (from matplotlib) (24.2)\n",
      "Requirement already satisfied: pillow>=8 in ./.venv/lib/python3.12/site-packages (from matplotlib) (11.1.0)\n",
      "Requirement already satisfied: pyparsing>=2.3.1 in ./.venv/lib/python3.12/site-packages (from matplotlib) (3.2.1)\n",
      "Requirement already satisfied: python-dateutil>=2.7 in ./.venv/lib/python3.12/site-packages (from matplotlib) (2.9.0.post0)\n",
      "Requirement already satisfied: six>=1.5 in ./.venv/lib/python3.12/site-packages (from python-dateutil>=2.7->matplotlib) (1.17.0)\n",
      "Note: you may need to restart the kernel to use updated packages.\n"
     ]
    }
   ],
   "source": [
    "%pip install transformers \n",
    "%pip install datasets \n",
    "%pip install torch \n",
    "%pip install scikit-learn\n",
    "%pip install pandas\n",
    "%pip install seaborn\n",
    "%pip install matplotlib"
   ]
  },
  {
   "cell_type": "code",
   "execution_count": 103,
   "metadata": {},
   "outputs": [],
   "source": [
    "import logging\n",
    "\n",
    "# prepare logger\n",
    "logging.basicConfig(level=logging.INFO)\n",
    "\n",
    "transformers_logger = logging.getLogger(\"transformers\")\n",
    "transformers_logger.setLevel(logging.WARNING)"
   ]
  },
  {
   "cell_type": "code",
   "execution_count": 104,
   "metadata": {},
   "outputs": [],
   "source": [
    "import torch\n",
    "import pandas as pd\n",
    "from transformers import DistilBertTokenizer, DistilBertForSequenceClassification, get_linear_schedule_with_warmup\n",
    "from torch.utils.data import DataLoader, Dataset\n",
    "import torch.optim as optim\n",
    "import ast\n",
    "import numpy as np\n",
    "from sklearn.metrics import confusion_matrix, accuracy_score, f1_score\n",
    "from sklearn.model_selection import train_test_split\n",
    "from typing import Dict, Any, List\n",
    "from datetime import datetime\n",
    "import pickle\n",
    "import seaborn as sns"
   ]
  },
  {
   "cell_type": "code",
   "execution_count": 105,
   "metadata": {},
   "outputs": [],
   "source": [
    "MODEL_DIR = \"models\"\n",
    "raw_dir = f\"{MODEL_DIR}/raw\"\n",
    "basic_finetuned_dir = f\"{MODEL_DIR}/basic_finetuned\"\n",
    "weighted_loss_dir = f\"{MODEL_DIR}/weighted_loss\"\n",
    "weighted_sampler_dir = f\"{MODEL_DIR}/weighted_sampler\"\n",
    "weighted_loss_sampler_dir = f\"{MODEL_DIR}/weighted_loss_sampler\"\n",
    "augmented_dir = f\"{MODEL_DIR}/augmented\"\n",
    "combined_dir = f\"{MODEL_DIR}/combined\""
   ]
  },
  {
   "cell_type": "code",
   "execution_count": 106,
   "metadata": {},
   "outputs": [],
   "source": [
    "device = torch.device(\"cuda\" if torch.cuda.is_available() else \"cpu\")"
   ]
  },
  {
   "cell_type": "markdown",
   "metadata": {},
   "source": [
    "### Load DistilBert-base-uncased\n"
   ]
  },
  {
   "cell_type": "code",
   "execution_count": 107,
   "metadata": {},
   "outputs": [
    {
     "name": "stderr",
     "output_type": "stream",
     "text": [
      "Some weights of DistilBertForSequenceClassification were not initialized from the model checkpoint at distilbert-base-uncased and are newly initialized: ['classifier.bias', 'classifier.weight', 'pre_classifier.bias', 'pre_classifier.weight']\n",
      "You should probably TRAIN this model on a down-stream task to be able to use it for predictions and inference.\n"
     ]
    }
   ],
   "source": [
    "# Load tokenizer and model\n",
    "MODEL_NAME = \"distilbert-base-uncased\"\n",
    "tokenizer = DistilBertTokenizer.from_pretrained(MODEL_NAME)\n",
    "model = DistilBertForSequenceClassification.from_pretrained(MODEL_NAME, num_labels=2) \n",
    "\n",
    "model.to(device)\n",
    "model.save_pretrained(raw_dir)"
   ]
  },
  {
   "cell_type": "markdown",
   "metadata": {},
   "source": [
    "### Load raw text data"
   ]
  },
  {
   "cell_type": "code",
   "execution_count": 108,
   "metadata": {},
   "outputs": [],
   "source": [
    "def convert_to_binary(label: Any) -> int:\n",
    "    \"\"\"\n",
    "    Paragraphs with original labels of 0 or 1 are considered to be negative examples of PCL and will have the label 0 = negative.\n",
    "\t\tParagraphs with original labels of 2, 3 or 4 are considered to be positive examples of PCL and will have the label 1 = positive.\n",
    "    \"\"\"\n",
    "    # If label_array is a string, convert it to a list\n",
    "    return 0 if label == 0 or label == 1 else 1 "
   ]
  },
  {
   "cell_type": "code",
   "execution_count": 109,
   "metadata": {},
   "outputs": [
    {
     "name": "stdout",
     "output_type": "stream",
     "text": [
      "Text Data shape: (10469, 7)\n",
      "Train Allocation shape: (8375, 1)\n",
      "Official Dev Allocation shape: (2094, 1)\n",
      "Merged Train Data shape: (8375, 7)\n",
      "Merged Official Dev Data shape: (2094, 7)\n"
     ]
    }
   ],
   "source": [
    "TRAIN_DATA_PATH = \"data/dontpatronizeme_pcl.tsv\"\n",
    "TRAIN_ALLOC_PATH = \"data/train_semeval_parids-labels.csv\"\n",
    "DEV_ALLOC_PATH = \"data/dev_semeval_parids-labels.csv\"\n",
    "\n",
    "column_names = [\"par_id\", \"art_id\", \"keyword\", \"country\", \"text\", \"orig_label\"]\n",
    "text_data = pd.read_csv(TRAIN_DATA_PATH, sep=\"\\t\", header=None, names=column_names)\n",
    "text_data[\"label\"] = text_data[\"orig_label\"].apply(convert_to_binary)\n",
    "\n",
    "print(\"Text Data shape:\", text_data.shape)\n",
    "\n",
    "train_alloc = pd.read_csv(TRAIN_ALLOC_PATH).drop(\"label\", axis=1)\n",
    "official_dev_alloc = pd.read_csv(DEV_ALLOC_PATH).drop(\"label\", axis=1)\n",
    "print(\"Train Allocation shape:\", train_alloc.shape)\n",
    "print(\"Official Dev Allocation shape:\", official_dev_alloc.shape)\n",
    "\n",
    "train_data = pd.merge(train_alloc, text_data, on=\"par_id\")\n",
    "official_dev_data = pd.merge(official_dev_alloc, text_data, on=\"par_id\")\n",
    "print(\"Merged Train Data shape:\", train_data.shape)\n",
    "print(\"Merged Official Dev Data shape:\", official_dev_data.shape)"
   ]
  },
  {
   "cell_type": "code",
   "execution_count": 110,
   "metadata": {},
   "outputs": [
    {
     "name": "stdout",
     "output_type": "stream",
     "text": [
      "Rows with NaN values in 'text' column:\n",
      "     par_id      art_id  keyword country text  orig_label  label\n",
      "434    8640  @@16852855  migrant      ke  NaN           0      0\n",
      "Cleaned Official Dev Data shape: (2094, 7)\n"
     ]
    }
   ],
   "source": [
    "# Step 1: Identify rows with NaN in the 'text' column\n",
    "nan_rows = official_dev_data[official_dev_data[\"text\"].isna()]\n",
    "\n",
    "# Step 2: Print the rows with NaN values\n",
    "print(\"Rows with NaN values in 'text' column:\")\n",
    "print(nan_rows)\n",
    "\n",
    "# Step 3: Remove rows with NaN values from the original official_dev_data\n",
    "# official_dev_data = official_dev_data.dropna(subset=[\"text\"])\n",
    "\n",
    "# Step 3 alternative: replace with placeholder string\n",
    "official_dev_data[\"text\"] = official_dev_data[\"text\"].fillna(\"missing text\")\n",
    "\n",
    "# Optionally, print the cleaned data shape\n",
    "print(\"Cleaned Official Dev Data shape:\", official_dev_data.shape)"
   ]
  },
  {
   "cell_type": "markdown",
   "metadata": {},
   "source": [
    "### (Pre-)Tokenize Dataset"
   ]
  },
  {
   "cell_type": "code",
   "execution_count": 111,
   "metadata": {},
   "outputs": [],
   "source": [
    "def tokenize(text, tokenizer, max_length=128):\n",
    "  return tokenizer(\n",
    "    str(text),\n",
    "    add_special_tokens=True,\n",
    "    max_length=max_length,\n",
    "    truncation=True,\n",
    "    padding=\"max_length\",\n",
    "    return_tensors=\"pt\"\n",
    "  )"
   ]
  },
  {
   "cell_type": "code",
   "execution_count": 112,
   "metadata": {},
   "outputs": [],
   "source": [
    "pretokenized_data = []\n",
    "for index, row in train_data.iterrows():\n",
    "  tokenized = tokenize(row[\"text\"], tokenizer)\n",
    "  tokenized = { key : value.squeeze(0).clone() for key, value in tokenized.items() }\n",
    "  tokenized[\"labels\"] = row[\"label\"]\n",
    "  tokenized[\"text\"] = row[\"text\"]\n",
    "  pretokenized_data.append(tokenized)\n",
    "\n",
    "with open(\"pretokenized.pkl\", \"wb\") as f:\n",
    "  pickle.dump(pretokenized_data, f)"
   ]
  },
  {
   "cell_type": "markdown",
   "metadata": {},
   "source": [
    "### Load into DataLoader's"
   ]
  },
  {
   "cell_type": "code",
   "execution_count": 113,
   "metadata": {},
   "outputs": [],
   "source": [
    "class DontPatronizeMeDataset(Dataset):\n",
    "  def __init__(self, data, tokenizer = None, max_length=128):\n",
    "    self.tokenizer = tokenizer\n",
    "\n",
    "    if self.tokenizer is not None:\n",
    "      self.max_length = max_length\n",
    "      self.data = data.reset_index(drop = True)\n",
    "    else:\n",
    "      self.data = data\n",
    "\n",
    "  def __len__(self) -> int:\n",
    "    return len(self.data)\n",
    "\n",
    "  def __getitem__(self, idx: int) -> Dict[str, torch.Tensor]:\n",
    "    if self.tokenizer is not None:\n",
    "      text = str(self.data.loc[idx, \"text\"])\n",
    "      label = self.data.loc[idx, \"label\"]\n",
    "\n",
    "      encoding = self.tokenizer(\n",
    "        text, \n",
    "        add_special_tokens=True,\n",
    "        max_length=self.max_length,\n",
    "        padding=\"max_length\",\n",
    "        truncation=True,\n",
    "        return_tensors=\"pt\"\n",
    "      )\n",
    "\n",
    "      encoding = { key: value.squeeze(0) for key, value in encoding.items() }\n",
    "      encoding[\"labels\"] = torch.tensor(label, dtype=torch.long)\n",
    "\n",
    "      return encoding\n",
    "    else:\n",
    "      return self.data[idx]\n"
   ]
  },
  {
   "cell_type": "code",
   "execution_count": 114,
   "metadata": {},
   "outputs": [],
   "source": [
    "with open(\"pretokenized.pkl\", \"rb\") as f:\n",
    "  pretokenized_data = pickle.load(f)\n",
    "\n",
    "labels = [int(item[\"labels\"]) for item in pretokenized_data]\n",
    "\n",
    "internal_train_data, internal_test_data = train_test_split(\n",
    "  pretokenized_data,\n",
    "  test_size = 0.2,\n",
    "  random_state = 16,\n",
    "  stratify=labels\n",
    ")\n",
    "\n",
    "train_dataset = DontPatronizeMeDataset(internal_train_data)\n",
    "test_dataset = DontPatronizeMeDataset(internal_test_data)\n",
    "\n",
    "train_loader = DataLoader(train_dataset, batch_size=16, shuffle=True, num_workers=4)\n",
    "test_loader = DataLoader(test_dataset, batch_size=16, shuffle=False, num_workers=4)"
   ]
  },
  {
   "cell_type": "markdown",
   "metadata": {},
   "source": [
    "### Define evaluation/prediciton loops"
   ]
  },
  {
   "cell_type": "code",
   "execution_count": 115,
   "metadata": {},
   "outputs": [],
   "source": [
    "def predict(model, loader: DataLoader, save_path: str = None):\n",
    "  model.eval()\n",
    "\n",
    "  predictions = []\n",
    "\n",
    "  with torch.no_grad():\n",
    "    for batch in loader:\n",
    "      inputs = batch[\"input_ids\"].to(device)\n",
    "      attention_mask = batch[\"attention_mask\"].to(device)\n",
    "      labels = batch[\"labels\"].to(device)\n",
    "\n",
    "      outputs = model(inputs, attention_mask=attention_mask)\n",
    "      logits = outputs.logits\n",
    "\n",
    "      preds = torch.argmax(logits, dim=1)\n",
    "      predictions.extend(preds.cpu().numpy().tolist())\n",
    "  \n",
    "  if save_path is not None:\n",
    "    with open(save_path, \"w\") as f:\n",
    "      for prediction in predictions:\n",
    "        f.write(f\"{prediction}\\n\")\n",
    "\n",
    "  return predictions"
   ]
  },
  {
   "cell_type": "code",
   "execution_count": 116,
   "metadata": {},
   "outputs": [],
   "source": [
    "def evaluate(model, loader: DataLoader, plot_confusion: bool = False):\n",
    "  y_true = []\n",
    "  y_pred = []\n",
    "\n",
    "  model.eval()\n",
    "  with torch.no_grad():\n",
    "      for batch in loader:\n",
    "          inputs = batch[\"input_ids\"].to(device)\n",
    "          attention_mask = batch[\"attention_mask\"].to(device)\n",
    "          labels = batch[\"labels\"].to(device)\n",
    "\n",
    "          outputs = model(inputs, attention_mask=attention_mask)\n",
    "          logits = outputs.logits\n",
    "\n",
    "          predictions = torch.argmax(logits, dim=1)\n",
    "\n",
    "          y_true.extend(labels.cpu().numpy().tolist())\n",
    "          y_pred.extend(predictions.cpu().numpy().tolist())\n",
    "\n",
    "  # # Convert to numpy arrays\n",
    "  y_true = np.array(y_true)\n",
    "  y_pred = np.array(y_pred)\n",
    "\n",
    "  accuracy = accuracy_score(y_true, y_pred)\n",
    "  f1 = f1_score(y_true, y_pred)\n",
    "\n",
    "  # predictions, labels = predict(model, loader=loader, with_labels=True, save_path=save_path)\n",
    "\n",
    "\n",
    "  return accuracy, f1"
   ]
  },
  {
   "cell_type": "markdown",
   "metadata": {},
   "source": [
    "### Baseline Evaluation"
   ]
  },
  {
   "cell_type": "code",
   "execution_count": 117,
   "metadata": {},
   "outputs": [
    {
     "name": "stdout",
     "output_type": "stream",
     "text": [
      "Pre trained\n",
      "Test Accuracy: 0.189851\n",
      "Test F1 Score: 0.165950\n"
     ]
    }
   ],
   "source": [
    "model = DistilBertForSequenceClassification.from_pretrained(raw_dir).to(device)\n",
    "\n",
    "# approx 1min\n",
    "test_acc, test_f1 = evaluate(model, test_loader)\n",
    "\n",
    "print(\"Pre trained\")\n",
    "print(f\"Test Accuracy: {test_acc:.6f}\")\n",
    "print(f\"Test F1 Score: {test_f1:.6f}\")"
   ]
  },
  {
   "cell_type": "markdown",
   "metadata": {},
   "source": [
    "### Define training loop"
   ]
  },
  {
   "cell_type": "code",
   "execution_count": 118,
   "metadata": {},
   "outputs": [],
   "source": [
    "import matplotlib.pyplot as plt\n",
    "\n",
    "def plot_losses(train_losses, val_losses, title = \"\"):\n",
    "  epochs = list(range(1, len(train_losses) + 1))\n",
    "  fig, ax1 = plt.subplots(figsize=(8, 6))\n",
    "\n",
    "  color_train = 'tab:blue'\n",
    "  ax1.set_xlabel('Epoch')\n",
    "  ax1.set_ylabel('Training Loss', color=color_train)\n",
    "  ax1.plot(epochs, train_losses, color=color_train, marker='o', label='Training Loss')\n",
    "  ax1.tick_params(axis='y', labelcolor=color_train)\n",
    "\n",
    "  # Create a second y-axis for the validation loss\n",
    "  ax2 = ax1.twinx()\n",
    "  color_val = 'tab:red'\n",
    "  ax2.set_ylabel('Validation Loss', color=color_val)\n",
    "  ax2.plot(epochs, val_losses, color=color_val, marker='o', label='Validation Loss')\n",
    "  ax2.tick_params(axis='y', labelcolor=color_val)\n",
    "\n",
    "  plt.title(title)\n",
    "  fig.tight_layout()  # Adjust layout to ensure everything fits nicely\n",
    "  plt.show()"
   ]
  },
  {
   "cell_type": "code",
   "execution_count": 119,
   "metadata": {},
   "outputs": [],
   "source": [
    "from torch.amp import autocast, GradScaler\n",
    "\n",
    "def finetune(\n",
    "  model, \n",
    "  loader: DataLoader, \n",
    "  num_epochs: int = 5, \n",
    "  lr: float = 2e-5, \n",
    "  patience: int = 2,\n",
    "  plot: bool = True,\n",
    "  plot_title: str = \"\",\n",
    "  loss_function = None\n",
    "):\n",
    "\n",
    "  best_val_loss = float(\"inf\")\n",
    "  epochs_no_improv = 0\n",
    "\n",
    "  optimiser = optim.AdamW(model.parameters(), lr=lr)\n",
    "  total_steps = len(loader) * num_epochs\n",
    "  scheduler = get_linear_schedule_with_warmup(\n",
    "    optimiser, \n",
    "    num_warmup_steps=0, \n",
    "    num_training_steps=total_steps\n",
    "  )\n",
    "\n",
    "  train_losses = []\n",
    "  val_losses = []\n",
    "\n",
    "  scaler = GradScaler(device=\"cuda\")\n",
    "\n",
    "  timestamp = datetime.now().strftime(\"%H:%M:%S\")\n",
    "  print(f\"{timestamp} - num_epochs = {num_epochs} | lr = {lr} | patience = {patience}\")\n",
    "\n",
    "  for epoch in range(num_epochs):\n",
    "    model.train()\n",
    "    total_loss: float = 0.0\n",
    "\n",
    "    for batch in loader:\n",
    "      optimiser.zero_grad()\n",
    "\n",
    "      inputs = batch[\"input_ids\"].to(device)\n",
    "      attention_mask = batch[\"attention_mask\"].to(device)\n",
    "      labels = batch[\"labels\"].to(device)\n",
    "\n",
    "      # Use `autocast` for mixed precision forward pass\n",
    "      with autocast(device_type=\"cuda\"):\n",
    "        outputs = model(inputs, attention_mask=attention_mask, labels=labels)\n",
    "        if loss_function is None:\n",
    "          loss = outputs.loss\n",
    "        else:\n",
    "          logits = outputs.logits\n",
    "          loss = loss_function(logits, labels)\n",
    "\n",
    "      scaler.scale(loss).backward()\n",
    "      scaler.step(optimiser)\n",
    "      scheduler.step()\n",
    "      scaler.update()\n",
    "\n",
    "      total_loss += loss.item()\n",
    "\n",
    "    avg_loss = total_loss / len(loader)\n",
    "    train_losses.append(avg_loss)\n",
    "\n",
    "    model.eval()\n",
    "    total_val_loss = 0.0\n",
    "    with torch.no_grad():\n",
    "      for batch in loader:\n",
    "        inputs = batch[\"input_ids\"].to(device)\n",
    "        attention_mask = batch[\"attention_mask\"].to(device)\n",
    "        labels = batch[\"labels\"].to(device)\n",
    "\n",
    "        with autocast(device_type=\"cuda\"):\n",
    "          outputs = model(inputs, attention_mask=attention_mask, labels=labels)\n",
    "          loss = outputs.loss\n",
    "        total_val_loss += loss.item()\n",
    "\n",
    "    avg_val_loss = total_val_loss / len(loader)\n",
    "    val_losses.append(avg_val_loss)\n",
    "\n",
    "    timestamp = datetime.now().strftime(\"%H:%M:%S\")\n",
    "    print(f\"{timestamp} - Epoch {epoch + 1}/{num_epochs} | Train Loss: {avg_loss:.6f} | Validation Loss: {avg_val_loss:.6f}\")\n",
    "\n",
    "    if avg_val_loss < best_val_loss:\n",
    "      best_val_loss = avg_val_loss\n",
    "      epochs_no_improv = 0\n",
    "      best_model_state = model.state_dict()\n",
    "\n",
    "    else:\n",
    "      epochs_no_improv += 1\n",
    "      if epochs_no_improv >= patience:\n",
    "        print(f\"Stopping at epoch {epoch}...\")\n",
    "        break\n",
    "    \n",
    "  model.load_state_dict(best_model_state)\n",
    "\n",
    "  if plot:\n",
    "    plot_losses(train_losses, val_losses, title=plot_title)\n",
    "    "
   ]
  },
  {
   "cell_type": "markdown",
   "metadata": {},
   "source": [
    "### Baseline Finetune"
   ]
  },
  {
   "cell_type": "code",
   "execution_count": 120,
   "metadata": {},
   "outputs": [
    {
     "name": "stdout",
     "output_type": "stream",
     "text": [
      "13:39:12 - num_epochs = 4 | lr = 2e-05 | patience = 2\n"
     ]
    },
    {
     "name": "stdout",
     "output_type": "stream",
     "text": [
      "13:39:45 - Epoch 1/4 | Train Loss: 0.259236 | Validation Loss: 0.172214\n",
      "13:40:18 - Epoch 2/4 | Train Loss: 0.153169 | Validation Loss: 0.073269\n",
      "13:40:52 - Epoch 3/4 | Train Loss: 0.073398 | Validation Loss: 0.024668\n",
      "13:41:27 - Epoch 4/4 | Train Loss: 0.029355 | Validation Loss: 0.013889\n"
     ]
    },
    {
     "data": {
      "image/png": "[encoded data removed]",
      "text/plain": [
       "<Figure size 800x600 with 2 Axes>"
      ]
     },
     "metadata": {},
     "output_type": "display_data"
    },
    {
     "name": "stdout",
     "output_type": "stream",
     "text": [
      "Post trained\n",
      "Test Accuracy: 0.915821\n",
      "Test F1 Score: 0.467925\n"
     ]
    }
   ],
   "source": [
    "torch.cuda.empty_cache()\n",
    "\n",
    "model = DistilBertForSequenceClassification.from_pretrained(raw_dir).to(device)\n",
    "\n",
    "# approx 5min per epoch\n",
    "finetune(model, train_loader, num_epochs =4, plot_title=\"Baseline (Post-Finetune)\")\n",
    "\n",
    "# approx 1min\n",
    "test_acc, test_f1 = evaluate(model, test_loader)\n",
    "\n",
    "print(\"Post trained\")\n",
    "print(f\"Test Accuracy: {test_acc:.6f}\")\n",
    "print(f\"Test F1 Score: {test_f1:.6f}\")\n",
    "\n",
    "model.save_pretrained(basic_finetuned_dir)"
   ]
  },
  {
   "cell_type": "markdown",
   "metadata": {},
   "source": [
    "### Evaluate on the dev set"
   ]
  },
  {
   "cell_type": "code",
   "execution_count": 121,
   "metadata": {},
   "outputs": [
    {
     "name": "stdout",
     "output_type": "stream",
     "text": [
      "Dev set\n",
      "Accuracy: 0.916428\n",
      "F1 Score: 0.501425\n"
     ]
    }
   ],
   "source": [
    "full_dev_dataset = DontPatronizeMeDataset(official_dev_data, tokenizer, max_length=128)\n",
    "full_dev_loader = DataLoader(full_dev_dataset, batch_size=16, shuffle=False, num_workers=4)\n",
    "\n",
    "# approx 1min\n",
    "test_acc, test_f1 = evaluate(model, full_dev_loader)\n",
    "\n",
    "print(\"Dev set\")\n",
    "print(f\"Accuracy: {test_acc:.6f}\")\n",
    "print(f\"F1 Score: {test_f1:.6f}\")"
   ]
  }
 ],
 "metadata": {
  "kernelspec": {
   "display_name": "Python 3 (ipykernel)",
   "language": "python",
   "name": "python3"
  },
  "language_info": {
   "codemirror_mode": {
    "name": "ipython",
    "version": 3
   },
   "file_extension": ".py",
   "mimetype": "text/x-python",
   "name": "python",
   "nbconvert_exporter": "python",
   "pygments_lexer": "ipython3",
   "version": "3.12.3"
  }
 },
 "nbformat": 4,
 "nbformat_minor": 2
}
