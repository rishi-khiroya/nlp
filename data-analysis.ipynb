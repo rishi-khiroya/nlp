{
 "cells": [
  {
   "cell_type": "markdown",
   "metadata": {},
   "source": [
    "# Loading data"
   ]
  },
  {
   "cell_type": "code",
   "execution_count": 22,
   "metadata": {},
   "outputs": [],
   "source": [
    "# imports\n",
    "import torch\n",
    "import pandas as pd\n",
    "from torch.utils.data import DataLoader, Dataset\n",
    "from typing import Dict, Any, List\n",
    "import pickle\n",
    "from sklearn.model_selection import train_test_split"
   ]
  },
  {
   "cell_type": "code",
   "execution_count": 2,
   "metadata": {},
   "outputs": [],
   "source": [
    "def convert_to_binary(label: Any) -> int:\n",
    "    \"\"\"\n",
    "    Paragraphs with original labels of 0 or 1 are considered to be negative examples of PCL and will have the label 0 = negative.\n",
    "\t\tParagraphs with original labels of 2, 3 or 4 are considered to be positive examples of PCL and will have the label 1 = positive.\n",
    "    \"\"\"\n",
    "    # If label_array is a string, convert it to a list\n",
    "    return 0 if label == 0 or label == 1 else 1 "
   ]
  },
  {
   "cell_type": "code",
   "execution_count": 5,
   "metadata": {},
   "outputs": [
    {
     "name": "stdout",
     "output_type": "stream",
     "text": [
      "Text Data shape: (10469, 7)\n",
      "Train Allocation shape: (8375, 1)\n",
      "Official Dev Allocation shape: (2094, 1)\n",
      "Merged Train Data shape: (8375, 7)\n",
      "Merged Official Dev Data shape: (2094, 7)\n"
     ]
    }
   ],
   "source": [
    "TRAIN_DATA_PATH = \"data/dontpatronizeme_pcl.tsv\"\n",
    "TRAIN_ALLOC_PATH = \"data/train_semeval_parids-labels.csv\"\n",
    "DEV_ALLOC_PATH = \"data/dev_semeval_parids-labels.csv\"\n",
    "\n",
    "column_names = [\"par_id\", \"art_id\", \"keyword\", \"country\", \"text\", \"orig_label\"]\n",
    "text_data = pd.read_csv(TRAIN_DATA_PATH, sep=\"\\t\", header=None, names=column_names)\n",
    "text_data[\"label\"] = text_data[\"orig_label\"].apply(convert_to_binary)\n",
    "\n",
    "print(\"Text Data shape:\", text_data.shape)\n",
    "\n",
    "train_alloc = pd.read_csv(TRAIN_ALLOC_PATH).drop(\"label\", axis=1)\n",
    "official_dev_alloc = pd.read_csv(DEV_ALLOC_PATH).drop(\"label\", axis=1)\n",
    "print(\"Train Allocation shape:\", train_alloc.shape)\n",
    "print(\"Official Dev Allocation shape:\", official_dev_alloc.shape)\n",
    "\n",
    "train_data = pd.merge(train_alloc, text_data, on=\"par_id\")\n",
    "official_dev_data = pd.merge(official_dev_alloc, text_data, on=\"par_id\")\n",
    "print(\"Merged Train Data shape:\", train_data.shape)\n",
    "print(\"Merged Official Dev Data shape:\", official_dev_data.shape)"
   ]
  },
  {
   "cell_type": "markdown",
   "metadata": {},
   "source": [
    "### (Pre-)Tokenise Dataset"
   ]
  },
  {
   "cell_type": "markdown",
   "metadata": {},
   "source": [
    "### Load into DataLoader"
   ]
  },
  {
   "cell_type": "code",
   "execution_count": 18,
   "metadata": {},
   "outputs": [],
   "source": [
    "class DontPatronizeMeDataset(Dataset):\n",
    "  def __init__(self, data, tokenizer = None, max_length=128):\n",
    "    self.tokenizer = tokenizer\n",
    "\n",
    "    if self.tokenizer is not None:\n",
    "      self.max_length = max_length\n",
    "      self.data = data.reset_index(drop = True)\n",
    "    else:\n",
    "      self.data = data\n",
    "\n",
    "  def __len__(self) -> int:\n",
    "    return len(self.data)\n",
    "\n",
    "  def __getitem__(self, idx: int) -> Dict[str, torch.Tensor]:\n",
    "    if self.tokenizer is not None:\n",
    "      text = str(self.data.loc[idx, \"text\"])\n",
    "      label = self.data.loc[idx, \"label\"]\n",
    "\n",
    "      encoding = self.tokenizer(\n",
    "        text, \n",
    "        add_special_tokens=True,\n",
    "        max_length=self.max_length,\n",
    "        padding=\"max_length\",\n",
    "        truncation=True,\n",
    "        return_tensors=\"pt\"\n",
    "      )\n",
    "\n",
    "      encoding = { key: value.squeeze(0) for key, value in encoding.items() }\n",
    "      encoding[\"labels\"] = torch.tensor(label, dtype=torch.long)\n",
    "\n",
    "      return encoding\n",
    "    else:\n",
    "      item = self.data[idx]\n",
    "      item.pop(\"text\", None)\n",
    "      return item"
   ]
  },
  {
   "cell_type": "code",
   "execution_count": 23,
   "metadata": {},
   "outputs": [],
   "source": [
    "with open(\"pretokenized.pkl\", \"rb\") as f:\n",
    "  pretokenized_data = pickle.load(f)\n",
    "\n",
    "labels = [int(item[\"labels\"]) for item in pretokenized_data]\n",
    "\n",
    "internal_train_data, internal_test_data = train_test_split(\n",
    "  pretokenized_data,\n",
    "  test_size = 0.2,\n",
    "  random_state = 16,\n",
    "  stratify=labels\n",
    ")\n",
    "\n",
    "train_dataset = DontPatronizeMeDataset(internal_train_data)\n",
    "test_dataset = DontPatronizeMeDataset(internal_test_data)\n",
    "\n",
    "train_loader = DataLoader(train_dataset, batch_size=16, shuffle=True, num_workers=4)\n",
    "test_loader = DataLoader(test_dataset, batch_size=16, shuffle=False, num_workers=4)"
   ]
  },
  {
   "cell_type": "markdown",
   "metadata": {},
   "source": [
    "# Data analysis"
   ]
  },
  {
   "cell_type": "code",
   "execution_count": 24,
   "metadata": {},
   "outputs": [],
   "source": [
    "# imports\n",
    "import matplotlib.pyplot as plt\n",
    "from collections import Counter"
   ]
  },
  {
   "cell_type": "markdown",
   "metadata": {},
   "source": [
    "### Check class imbalance"
   ]
  },
  {
   "cell_type": "code",
   "execution_count": 27,
   "metadata": {},
   "outputs": [
    {
     "name": "stdout",
     "output_type": "stream",
     "text": [
      "--- Train ---\n",
      "{0: 6065, 1: 635}\n",
      "{0: '90.52%', 1: '9.48%'}\n",
      "--- Test ---\n",
      "{0: 1516, 1: 159}\n",
      "{0: '90.51%', 1: '9.49%'}\n"
     ]
    },
    {
     "data": {
      "image/png": "[encoded data removed]",
      "text/plain": [
       "<Figure size 1200x500 with 2 Axes>"
      ]
     },
     "metadata": {},
     "output_type": "display_data"
    }
   ],
   "source": [
    "def check_class_imbalance(train_data, test_data, with_aug=False):\n",
    "  train_labels = [int(item[\"labels\"]) for item in train_data]\n",
    "  test_labels = [int(item[\"labels\"]) for item in test_data]\n",
    "\n",
    "  train_counts = Counter(train_labels)\n",
    "  test_counts = Counter(test_labels)\n",
    "\n",
    "  train_sorted = { k : v for k, v in sorted(train_counts.items()) }\n",
    "  test_sorted = { k : v for k, v in sorted(test_counts.items()) }\n",
    "\n",
    "  print(\"--- Train ---\")\n",
    "  print(train_sorted)\n",
    "  train_total = sum(train_counts.values())\n",
    "  print({ k: f\"{(100 * v / train_total):.2f}%\" for k, v in train_sorted.items() })\n",
    "\n",
    "  print(\"--- Test ---\")\n",
    "  print(test_sorted)\n",
    "  test_total = sum(test_counts.values())\n",
    "  print({ k: f\"{(100 * v / test_total):.2f}%\" for k, v in test_sorted.items() })\n",
    "\n",
    "  fig, axes = plt.subplots(nrows=1, ncols=2, figsize=(12, 5))\n",
    "\n",
    "  axes[0].bar(list(train_sorted.keys()), list(train_sorted.values()), color='skyblue')\n",
    "  axes[0].set_title(f'Train Data Label Distribution {\"(with Data Augmentation)\" if with_aug else \"\"}')\n",
    "  axes[0].set_xlabel('Label')\n",
    "  axes[0].set_ylabel('Count')\n",
    "\n",
    "  axes[1].bar(list(test_sorted.keys()), list(test_sorted.values()), color='salmon')\n",
    "  axes[1].set_title(f'Test Data Label Distribution')\n",
    "  axes[1].set_xlabel('Label')\n",
    "  axes[1].set_ylabel('Count')\n",
    "\n",
    "  plt.tight_layout()\n",
    "  plt.show()\n",
    "  \n",
    "check_class_imbalance(internal_train_data, internal_test_data)"
   ]
  }
 ],
 "metadata": {
  "kernelspec": {
   "display_name": "Python 3.10.9 ('mlienv')",
   "language": "python",
   "name": "python3"
  },
  "language_info": {
   "codemirror_mode": {
    "name": "ipython",
    "version": 3
   },
   "file_extension": ".py",
   "mimetype": "text/x-python",
   "name": "python",
   "nbconvert_exporter": "python",
   "pygments_lexer": "ipython3",
   "version": "3.10.9"
  },
  "orig_nbformat": 4,
  "vscode": {
   "interpreter": {
    "hash": "014c09e67b5173fa1dec5bac984a21478d9b1d9a66472636198ae7b5f350a0b5"
   }
  }
 },
 "nbformat": 4,
 "nbformat_minor": 2
}
